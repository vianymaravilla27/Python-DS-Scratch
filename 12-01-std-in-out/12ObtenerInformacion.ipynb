{
 "cells": [
  {
   "cell_type": "markdown",
   "metadata": {},
   "source": [
    "### Stdin and stdout"
   ]
  },
  {
   "cell_type": "markdown",
   "metadata": {},
   "source": [
    "En este programa usaremos la linea de comandos de python para poder funciones del sistema para obtener lineas de texto y tratarlas con expresiones regualres"
   ]
  },
  {
   "cell_type": "code",
   "execution_count": null,
   "metadata": {},
   "outputs": [],
   "source": [
    "#egrep.py \n",
    "import sys,re\n",
    "\n",
    "#sys.argv is the list of command line arguments\n",
    "#sys.argv[0] is the name of the program itself\n",
    "#sys.argv[1]\n",
    "regex = sys.argv[1]\n",
    "#for every line passed into the script\n",
    "\n",
    "for line in sys.stdin:\n",
    "    # if it matches the regex, write it to stdout\n",
    "    if re.search(regex,line):\n",
    "        sys.stdout.write(line)\n"
   ]
  },
  {
   "cell_type": "code",
   "execution_count": null,
   "metadata": {},
   "outputs": [],
   "source": [
    "#line_count.py\n",
    "import sys\n",
    "count = 0\n",
    "for line in sys.stdin:\n",
    "    count += 1\n",
    "#print goes to sys.stdout\n",
    "print(\"Existen\", count, \"lineas que contienen numeros\") "
   ]
  },
  {
   "cell_type": "code",
   "execution_count": null,
   "metadata": {
    "vscode": {
     "languageId": "bat"
    }
   },
   "outputs": [],
   "source": [
    "cat  somefile.txt | python egrep.py \"[0-9]\" | python  line_count.py"
   ]
  },
  {
   "cell_type": "code",
   "execution_count": null,
   "metadata": {},
   "outputs": [],
   "source": [
    "# most_common_words.py\n",
    "import sys\n",
    "from collections import Counter\n",
    "\n",
    "if __name__ == \"__main__\":\n",
    "\n",
    "    # pass in number of words as first argument\n",
    "    try:\n",
    "        num_words = int(sys.argv[1])\n",
    "    except:\n",
    "        print(\"usage: most_common_words.py num_words\")\n",
    "        sys.exit(1)   # non-zero exit code indicates error\n",
    "\n",
    "    counter = Counter(word.lower()\n",
    "                      for line in sys.stdin\n",
    "                      for word in line.strip().split()\n",
    "                      if word)\n",
    "\n",
    "    for word, count in counter.most_common(num_words):\n",
    "        sys.stdout.write(str(count))\n",
    "        sys.stdout.write(\"\\t\")\n",
    "        sys.stdout.write(word)\n",
    "        sys.stdout.write(\"\\n\")"
   ]
  },
  {
   "cell_type": "markdown",
   "metadata": {},
   "source": [
    "Para encontrar las palabras mas comunes ejecutamos este codigo, introducuento como valor un numero nos dara los más comunes y cuantas veces aparecen"
   ]
  },
  {
   "cell_type": "code",
   "execution_count": null,
   "metadata": {
    "vscode": {
     "languageId": "bat"
    }
   },
   "outputs": [],
   "source": [
    "cat  somefile.txt  | python  most_common_words.py 3"
   ]
  }
 ],
 "metadata": {
  "interpreter": {
   "hash": "12e7b2db913c7cced4d5bf71ce365c438f2053887e824f813caa9208ccef4b13"
  },
  "kernelspec": {
   "display_name": "Python 3.9.7 ('base')",
   "language": "python",
   "name": "python3"
  },
  "language_info": {
   "codemirror_mode": {
    "name": "ipython",
    "version": 3
   },
   "file_extension": ".py",
   "mimetype": "text/x-python",
   "name": "python",
   "nbconvert_exporter": "python",
   "pygments_lexer": "ipython3",
   "version": "3.9.7"
  },
  "orig_nbformat": 4
 },
 "nbformat": 4,
 "nbformat_minor": 2
}
