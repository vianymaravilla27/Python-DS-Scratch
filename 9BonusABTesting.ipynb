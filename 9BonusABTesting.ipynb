{
 "cells": [
  {
   "cell_type": "markdown",
   "metadata": {},
   "source": [
    "### What is A/B testing?"
   ]
  },
  {
   "cell_type": "markdown",
   "metadata": {},
   "source": [
    "1.- A/B Testing: Test different ideas against each other in the real world<br>\n",
    "2.-Choose the one that statistically performs better<br>\n",
    "Why is A/B testing important?<br>\n",
    "3.-No guessing<br>\n",
    "4.-Provides accurate answers - quickly<br>\n",
    "5.-Allows to rapidly iterate on ideas and establish causal relationships"
   ]
  },
  {
   "cell_type": "markdown",
   "metadata": {},
   "source": [
    "![Formula del teorema de bayes](https://goldinlocks.github.io/Introduction-to-A-B-testing-in-python/abpro.png)"
   ]
  },
  {
   "cell_type": "markdown",
   "metadata": {},
   "source": [
    "### A/B test process"
   ]
  },
  {
   "cell_type": "markdown",
   "metadata": {},
   "source": [
    "Develop a hypothesis about your product or business <br>\n",
    "Randomly assign users to two different groups <br>\n",
    "Expose:<br>\n",
    "Group 1 to the the current product rules<br>\n",
    "Group 2 to a product that tests the hypothesis<br>"
   ]
  },
  {
   "cell_type": "markdown",
   "metadata": {},
   "source": [
    "### Where can A/B testing be used?\n",
    "impact of drugs<br>\n",
    "incentivizing spending<br>\n",
    "driving user growth<br>\n",
    "...and many more!<br>\n",
    "Pick whichever performs better according to a set of KPIs Key Performance Indicators<br>\n",
    "Key performance indicators (KPIs)<br>\n",
    "A/B Tests: Measure impact of changes on KPIs<br>\n",
    "KPIs — metrics are important to an organization:<br>\n",
    "likelihood of a side-effect<br>\n",
    "revenue<br>\n",
    "conversion rate<br>\n",
    "#### How to identify KPIs <br>\n",
    "Experience + Domain knowledge + Exploratory data analysis <br>\n",
    "Experience & Knowledge - What is important to a business <br>\n",
    "Exploratory Analysis - What metrics and relationships impact these KPIs<br>"
   ]
  },
  {
   "cell_type": "code",
   "execution_count": 1,
   "metadata": {},
   "outputs": [],
   "source": [
    "import warnings\n",
    "warnings.filterwarnings('ignore')\n",
    "import pandas as pd\n",
    "import numpy as np \n",
    "import matplotlib.pyplot as plt\n",
    "import seaborn as sns \n",
    "from functools import reduce\n",
    "from sklearn import preprocessing\n",
    "from scipy import stats"
   ]
  },
  {
   "cell_type": "code",
   "execution_count": null,
   "metadata": {},
   "outputs": [],
   "source": []
  },
  {
   "cell_type": "code",
   "execution_count": null,
   "metadata": {},
   "outputs": [],
   "source": [
    "Source: https://goldinlocks.github.io/Introduction-to-A-B-testing-in-python/"
   ]
  }
 ],
 "metadata": {
  "interpreter": {
   "hash": "12e7b2db913c7cced4d5bf71ce365c438f2053887e824f813caa9208ccef4b13"
  },
  "kernelspec": {
   "display_name": "Python 3.9.7 ('base')",
   "language": "python",
   "name": "python3"
  },
  "language_info": {
   "codemirror_mode": {
    "name": "ipython",
    "version": 3
   },
   "file_extension": ".py",
   "mimetype": "text/x-python",
   "name": "python",
   "nbconvert_exporter": "python",
   "pygments_lexer": "ipython3",
   "version": "3.9.7"
  },
  "orig_nbformat": 4
 },
 "nbformat": 4,
 "nbformat_minor": 2
}
