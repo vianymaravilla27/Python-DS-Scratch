{
 "cells": [
  {
   "cell_type": "markdown",
   "metadata": {},
   "source": [
    "Probabilidad en Python  "
   ]
  },
  {
   "cell_type": "code",
   "execution_count": 109,
   "metadata": {},
   "outputs": [
    {
     "name": "stdout",
     "output_type": "stream",
     "text": [
      "P(both | older): 0.5007089325501317\n",
      "P(both | either) 0.3311897106109325\n"
     ]
    }
   ],
   "source": [
    "import random \n",
    "def random_kid():\n",
    "    morro = [\"boy\",\"girl\"]\n",
    "    return random.choice(morro)\n",
    "\n",
    "both_girls = 0\n",
    "older_girl = 0\n",
    "either_girl = 0\n",
    "\n",
    "random.seed(0) \n",
    "for _ in range(10000):\n",
    "    younger = random_kid()\n",
    "    older = random_kid()\n",
    "    if older == \"girl\":\n",
    "        older_girl += 1\n",
    "    if older == \"girl\" and younger == \"girl\":\n",
    "        both_girls += 1\n",
    "    if older == \"girl\" or younger == \"girl\":\n",
    "        either_girl += 1\n",
    "\n",
    "print (\"P(both | older):\" , both_girls / older_girl)\n",
    "print (\"P(both | either)\" , both_girls/ either_girl)"
   ]
  },
  {
   "cell_type": "code",
   "execution_count": 110,
   "metadata": {},
   "outputs": [
    {
     "data": {
      "text/plain": [
       "'girl'"
      ]
     },
     "execution_count": 110,
     "metadata": {},
     "output_type": "execute_result"
    }
   ],
   "source": [
    "def random_kid():\n",
    "    morro = [\"boy\",\"girl\"]\n",
    "    return random.choice(morro)\n",
    "\n",
    "random_kid()"
   ]
  },
  {
   "cell_type": "markdown",
   "metadata": {},
   "source": [
    "Leer les gusta probabilidad condicional"
   ]
  },
  {
   "cell_type": "code",
   "execution_count": 111,
   "metadata": {},
   "outputs": [],
   "source": [
    "random.seed(25)\n",
    "\n",
    "hombre = random.randint(0, 100)\n",
    "mujer = random.randint(0, 100)\n",
    "\n",
    "leerH = hombre-random.randint(0, 99)\n",
    "leerM = mujer-random.randint(0, 99)\n",
    "\n",
    "total = hombre + mujer"
   ]
  },
  {
   "cell_type": "code",
   "execution_count": 112,
   "metadata": {},
   "outputs": [
    {
     "name": "stdout",
     "output_type": "stream",
     "text": [
      "hombres:  48\n",
      "mujeres: ,  98\n",
      "hombres que les gusta leer:  47\n",
      "mujeres que les gusta leer:  71\n",
      "total:  146\n"
     ]
    }
   ],
   "source": [
    "print(\"hombres: \", hombre)\n",
    "print(\"mujeres: , \", mujer)\n",
    "print(\"hombres que les gusta leer: \", leerH)\n",
    "print(\"mujeres que les gusta leer: \", leerM)\n",
    "\n",
    "print(\"total: \" , total)"
   ]
  },
  {
   "cell_type": "markdown",
   "metadata": {},
   "source": [
    "Probabilidad de mujer\n",
    "P(M)"
   ]
  },
  {
   "cell_type": "code",
   "execution_count": 113,
   "metadata": {},
   "outputs": [
    {
     "data": {
      "text/plain": [
       "0.6712328767123288"
      ]
     },
     "execution_count": 113,
     "metadata": {},
     "output_type": "execute_result"
    }
   ],
   "source": [
    "pM = mujer/total\n",
    "pM"
   ]
  },
  {
   "cell_type": "markdown",
   "metadata": {},
   "source": [
    "Probabilidad de mujer que le guste leer\n",
    "P(LunionM)"
   ]
  },
  {
   "cell_type": "code",
   "execution_count": 114,
   "metadata": {},
   "outputs": [
    {
     "data": {
      "text/plain": [
       "0.4863013698630137"
      ]
     },
     "execution_count": 114,
     "metadata": {},
     "output_type": "execute_result"
    }
   ],
   "source": [
    "pLnM = leerM/total\n",
    "pLnM"
   ]
  },
  {
   "cell_type": "markdown",
   "metadata": {},
   "source": [
    "probabilidad de que le guste leer dado que es una mujer\n",
    "\n",
    "P(L|M)"
   ]
  },
  {
   "cell_type": "code",
   "execution_count": 115,
   "metadata": {},
   "outputs": [
    {
     "name": "stdout",
     "output_type": "stream",
     "text": [
      "Probabilidad:  72.44897959183673 %\n"
     ]
    }
   ],
   "source": [
    "PLM = pLnM/pM\n",
    "print(\"Probabilidad: \", PLM*100,\"%\")"
   ]
  }
 ],
 "metadata": {
  "interpreter": {
   "hash": "12e7b2db913c7cced4d5bf71ce365c438f2053887e824f813caa9208ccef4b13"
  },
  "kernelspec": {
   "display_name": "Python 3.9.7 ('base')",
   "language": "python",
   "name": "python3"
  },
  "language_info": {
   "codemirror_mode": {
    "name": "ipython",
    "version": 3
   },
   "file_extension": ".py",
   "mimetype": "text/x-python",
   "name": "python",
   "nbconvert_exporter": "python",
   "pygments_lexer": "ipython3",
   "version": "3.9.7"
  },
  "orig_nbformat": 4
 },
 "nbformat": 4,
 "nbformat_minor": 2
}
