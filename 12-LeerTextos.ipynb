{
 "cells": [
  {
   "cell_type": "markdown",
   "metadata": {},
   "source": [
    "### Leer archivos con open "
   ]
  },
  {
   "cell_type": "code",
   "execution_count": 17,
   "metadata": {},
   "outputs": [],
   "source": [
    "file = './recursos/archivo.txt'"
   ]
  },
  {
   "cell_type": "code",
   "execution_count": 20,
   "metadata": {},
   "outputs": [],
   "source": [
    "\n",
    "\n",
    "file_for_reading = open(file , 'r')\n"
   ]
  },
  {
   "cell_type": "code",
   "execution_count": 23,
   "metadata": {},
   "outputs": [],
   "source": [
    "file_for_writing = open(file , 'w')\n",
    "file_for_writing.write(\"Ahora metemos algo más!\")\n",
    "\n",
    "\n",
    "file_for_writing.close()"
   ]
  },
  {
   "cell_type": "code",
   "execution_count": 29,
   "metadata": {},
   "outputs": [],
   "source": [
    "file_for_appending= open(file , 'a')\n",
    "file_for_appending.write(\"Ahora metemos algo más!\")\n",
    "\n",
    "\n",
    "file_for_appending.close()"
   ]
  },
  {
   "cell_type": "code",
   "execution_count": 28,
   "metadata": {},
   "outputs": [
    {
     "name": "stdout",
     "output_type": "stream",
     "text": [
      "\n",
      "\n"
     ]
    }
   ],
   "source": [
    "print(file_for_reading.read())\n",
    "#leer solo 5 caracteres\n",
    "print(file_for_reading.read(5))"
   ]
  },
  {
   "cell_type": "code",
   "execution_count": 30,
   "metadata": {},
   "outputs": [
    {
     "name": "stdout",
     "output_type": "stream",
     "text": [
      "Now the file has more content!Ahora metemos algo más!Ahora metemos algo más!\n"
     ]
    }
   ],
   "source": [
    "f = open(file, \"r\")\n",
    "print(f.readline())\n",
    "        \n"
   ]
  },
  {
   "cell_type": "markdown",
   "metadata": {},
   "source": [
    "Obtener los archivos con @ "
   ]
  },
  {
   "cell_type": "code",
   "execution_count": 6,
   "metadata": {},
   "outputs": [
    {
     "data": {
      "text/plain": [
       "['adolfocuentas123']"
      ]
     },
     "execution_count": 6,
     "metadata": {},
     "output_type": "execute_result"
    }
   ],
   "source": [
    "def get_domain(email_adress):\n",
    "    #split on ´@´and return the last piece\n",
    "    return email_adress.lower().split(\"@\")[:1]\n",
    "    #last\n",
    "    #return email_adress.lower().split(\"@\")[-1]\n",
    "\n",
    "get_domain('adolfocuentas123@gmail.com')\n"
   ]
  },
  {
   "cell_type": "markdown",
   "metadata": {},
   "source": [
    "### Delimited Files"
   ]
  },
  {
   "cell_type": "code",
   "execution_count": 12,
   "metadata": {},
   "outputs": [
    {
     "data": {
      "text/html": [
       "<div>\n",
       "<style scoped>\n",
       "    .dataframe tbody tr th:only-of-type {\n",
       "        vertical-align: middle;\n",
       "    }\n",
       "\n",
       "    .dataframe tbody tr th {\n",
       "        vertical-align: top;\n",
       "    }\n",
       "\n",
       "    .dataframe thead th {\n",
       "        text-align: right;\n",
       "    }\n",
       "</style>\n",
       "<table border=\"1\" class=\"dataframe\">\n",
       "  <thead>\n",
       "    <tr style=\"text-align: right;\">\n",
       "      <th></th>\n",
       "      <th>Year</th>\n",
       "      <th>\"Score\"</th>\n",
       "      <th>\"Title\"</th>\n",
       "    </tr>\n",
       "  </thead>\n",
       "  <tbody>\n",
       "    <tr>\n",
       "      <th>0</th>\n",
       "      <td>1968</td>\n",
       "      <td>86</td>\n",
       "      <td>\"Greetings\"</td>\n",
       "    </tr>\n",
       "    <tr>\n",
       "      <th>1</th>\n",
       "      <td>1970</td>\n",
       "      <td>17</td>\n",
       "      <td>\"Bloody Mama\"</td>\n",
       "    </tr>\n",
       "    <tr>\n",
       "      <th>2</th>\n",
       "      <td>1971</td>\n",
       "      <td>40</td>\n",
       "      <td>\"Born to Win\"</td>\n",
       "    </tr>\n",
       "    <tr>\n",
       "      <th>3</th>\n",
       "      <td>1973</td>\n",
       "      <td>98</td>\n",
       "      <td>\"Mean Streets\"</td>\n",
       "    </tr>\n",
       "    <tr>\n",
       "      <th>4</th>\n",
       "      <td>1973</td>\n",
       "      <td>88</td>\n",
       "      <td>\"Bang the Drum Slowly\"</td>\n",
       "    </tr>\n",
       "    <tr>\n",
       "      <th>...</th>\n",
       "      <td>...</td>\n",
       "      <td>...</td>\n",
       "      <td>...</td>\n",
       "    </tr>\n",
       "    <tr>\n",
       "      <th>79</th>\n",
       "      <td>2014</td>\n",
       "      <td>9</td>\n",
       "      <td>\"The Bag Man\"</td>\n",
       "    </tr>\n",
       "    <tr>\n",
       "      <th>80</th>\n",
       "      <td>2015</td>\n",
       "      <td>60</td>\n",
       "      <td>\"Joy\"</td>\n",
       "    </tr>\n",
       "    <tr>\n",
       "      <th>81</th>\n",
       "      <td>2015</td>\n",
       "      <td>26</td>\n",
       "      <td>\"Heist\"</td>\n",
       "    </tr>\n",
       "    <tr>\n",
       "      <th>82</th>\n",
       "      <td>2015</td>\n",
       "      <td>61</td>\n",
       "      <td>\"The Intern\"</td>\n",
       "    </tr>\n",
       "    <tr>\n",
       "      <th>83</th>\n",
       "      <td>2016</td>\n",
       "      <td>11</td>\n",
       "      <td>\"Dirty Grandpa\"</td>\n",
       "    </tr>\n",
       "  </tbody>\n",
       "</table>\n",
       "<p>84 rows × 3 columns</p>\n",
       "</div>"
      ],
      "text/plain": [
       "    Year   \"Score\"                  \"Title\"\n",
       "0   1968        86              \"Greetings\"\n",
       "1   1970        17            \"Bloody Mama\"\n",
       "2   1971        40            \"Born to Win\"\n",
       "3   1973        98           \"Mean Streets\"\n",
       "4   1973        88   \"Bang the Drum Slowly\"\n",
       "..   ...       ...                      ...\n",
       "79  2014         9            \"The Bag Man\"\n",
       "80  2015        60                    \"Joy\"\n",
       "81  2015        26                  \"Heist\"\n",
       "82  2015        61             \"The Intern\"\n",
       "83  2016        11          \"Dirty Grandpa\"\n",
       "\n",
       "[84 rows x 3 columns]"
      ]
     },
     "execution_count": 12,
     "metadata": {},
     "output_type": "execute_result"
    }
   ],
   "source": [
    "import pandas as pd\n",
    "\n",
    "file_csv = './recursos/deniro.csv'\n",
    "\n",
    "df = pd.read_csv(file_csv, on_bad_lines='skip')\n",
    "\n",
    "df\n"
   ]
  },
  {
   "cell_type": "code",
   "execution_count": 13,
   "metadata": {},
   "outputs": [
    {
     "name": "stdout",
     "output_type": "stream",
     "text": [
      "    Year   \"Score\"                                     \"Title\"\n",
      "0   1968        86                                 \"Greetings\"\n",
      "1   1970        17                               \"Bloody Mama\"\n",
      "2   1971        40                               \"Born to Win\"\n",
      "3   1973        98                              \"Mean Streets\"\n",
      "4   1973        88                      \"Bang the Drum Slowly\"\n",
      "5   1976        41                           \"The Last Tycoon\"\n",
      "6   1976        99                               \"Taxi Driver\"\n",
      "7   1977        47                                      \"1900\"\n",
      "8   1978        93                           \"The Deer Hunter\"\n",
      "9   1980        97                               \"Raging Bull\"\n",
      "10  1981        75                          \"True Confessions\"\n",
      "11  1983        90                        \"The King of Comedy\"\n",
      "12  1984        89               \"Once Upon a Time in America\"\n",
      "13  1984        60                           \"Falling in Love\"\n",
      "14  1985        98                                    \"Brazil\"\n",
      "15  1986        65                               \"The Mission\"\n",
      "16  1987       100   \"Dear America: Letters Home From Vietnam\"\n",
      "17  1987        80                          \"The Untouchables\"\n",
      "18  1987        78                               \"Angel Heart\"\n",
      "19  1988        96                              \"Midnight Run\"\n",
      "20  1989        64                                  \"Jacknife\"\n",
      "21  1989        47                           \"We're No Angels\"\n",
      "22  1990        88                                \"Awakenings\"\n",
      "23  1990        29                            \"Stanley & Iris\"\n",
      "24  1990        96                                \"Goodfellas\"\n",
      "25  1991        76                                 \"Cape Fear\"\n",
      "26  1991        69                                  \"Mistress\"\n",
      "27  1991        65                       \"Guilty by Suspicion\"\n",
      "28  1991        71                                 \"Backdraft\"\n",
      "29  1992        87                              \"Thunderheart\"\n",
      "30  1992        67                        \"Night and the City\"\n",
      "31  1993        75                           \"This Boy's Life\"\n",
      "32  1993        78                         \"Mad Dog and Glory\"\n",
      "33  1993        96                              \"A Bronx Tale\"\n",
      "34  1994        39               \"Mary Shelley's Frankenstein\"\n",
      "35  1995        80                                    \"Casino\"\n",
      "36  1995        86                                      \"Heat\"\n",
      "37  1996        74                                  \"Sleepers\"\n",
      "38  1996        38                                   \"The Fan\"\n",
      "39  1996        80                             \"Marvin's Room\"\n",
      "40  1997        85                               \"Wag the Dog\"\n",
      "41  1997        87                              \"Jackie Brown\"\n",
      "42  1997        72                                  \"Cop Land\"\n",
      "43  1998        68                                     \"Ronin\"\n",
      "44  1998        38                        \"Great Expectations\"\n",
      "45  1999        69                              \"Analyze This\"\n",
      "46  1999        43                                  \"Flawless\"\n",
      "47  2000        43      \"The Adventures of Rocky & Bullwinkle\"\n",
      "48  2000        84                          \"Meet the Parents\"\n",
      "49  2000        41                              \"Men of Honor\"\n",
      "50  2001        73                                 \"The Score\"\n",
      "51  2001        33                                \"15 Minutes\"\n",
      "52  2002        48                           \"City by the Sea\"\n",
      "53  2002        27                              \"Analyze That\"\n",
      "54  2003         4                                   \"Godsend\"\n",
      "55  2004        35                                \"Shark Tale\"\n",
      "56  2004        38                          \"Meet the Fockers\"\n",
      "57  2005         4                \"The Bridge of San Luis Rey\"\n",
      "58  2005        46                                      \"Rent\"\n",
      "59  2005        13                             \"Hide and Seek\"\n",
      "60  2006        54                         \"The Good Shepherd\"\n",
      "61  2007        21                 \"Arthur and the Invisibles\"\n",
      "62  2007        76                       \"Captain Shakespeare\"\n",
      "63  2008        19                            \"Righteous Kill\"\n",
      "64  2008        51                       \"What Just Happened?\"\n",
      "65  2009        46                          \"Everybody's Fine\"\n",
      "66  2010        72                                   \"Machete\"\n",
      "67  2010        10                            \"Little Fockers\"\n",
      "68  2010        50                                     \"Stone\"\n",
      "69  2011        25                              \"Killer Elite\"\n",
      "70  2011         7                            \"New Year's Eve\"\n",
      "71  2011        70                                 \"Limitless\"\n",
      "72  2012        92                   \"Silver Linings Playbook\"\n",
      "73  2012        51                               \"Being Flynn\"\n",
      "74  2012        29                                \"Red Lights\"\n",
      "75  2013        46                                \"Last Vegas\"\n",
      "76  2013         7                           \"The Big Wedding\"\n",
      "77  2013        29                              \"Grudge Match\"\n",
      "78  2013        11                            \"Killing Season\"\n",
      "79  2014         9                               \"The Bag Man\"\n",
      "80  2015        60                                       \"Joy\"\n",
      "81  2015        26                                     \"Heist\"\n",
      "82  2015        61                                \"The Intern\"\n",
      "83  2016        11                             \"Dirty Grandpa\"\n"
     ]
    }
   ],
   "source": [
    "print(df.to_string()) "
   ]
  },
  {
   "cell_type": "markdown",
   "metadata": {},
   "source": [
    "En este archivo vamos a hacer un pequeño tratamiento para saber cual fue la mejor epoca de Deniro en decadas"
   ]
  },
  {
   "cell_type": "code",
   "execution_count": null,
   "metadata": {},
   "outputs": [],
   "source": [
    "def DeniroScore(x):\n",
    "    return "
   ]
  },
  {
   "cell_type": "code",
   "execution_count": null,
   "metadata": {},
   "outputs": [],
   "source": []
  }
 ],
 "metadata": {
  "interpreter": {
   "hash": "12e7b2db913c7cced4d5bf71ce365c438f2053887e824f813caa9208ccef4b13"
  },
  "kernelspec": {
   "display_name": "Python 3.9.7 ('base')",
   "language": "python",
   "name": "python3"
  },
  "language_info": {
   "codemirror_mode": {
    "name": "ipython",
    "version": 3
   },
   "file_extension": ".py",
   "mimetype": "text/x-python",
   "name": "python",
   "nbconvert_exporter": "python",
   "pygments_lexer": "ipython3",
   "version": "3.9.7"
  },
  "orig_nbformat": 4
 },
 "nbformat": 4,
 "nbformat_minor": 2
}
