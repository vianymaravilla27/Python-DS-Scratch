{
 "cells": [
  {
   "cell_type": "markdown",
   "metadata": {},
   "source": [
    "### Ejemplo del teorema de Bayes"
   ]
  },
  {
   "cell_type": "markdown",
   "metadata": {},
   "source": [
    "\n",
    "Una empresa tiene una fábrica en Estados Unidos que dispone de tres máquinas A, B y C, que producen envases para botellas de agua. Se sabe que la máquina A produce un 40% de la cantidad total, la máquina B un 30%, y la máquina C un 30%. También se sabe que cada máquina produce envases defectuosos. De tal manera que la máquina A produce un 2% de envases defectuosos sobre el total de su producción, la máquina B un 3%, y la máquina C un 5%. Dicho esto, se plantean dos cuestiones:"
   ]
  },
  {
   "cell_type": "code",
   "execution_count": 184,
   "metadata": {},
   "outputs": [],
   "source": [
    "# A = 40%\n",
    "# B = 30%\n",
    "# C = 30%\n",
    "# A = Defectuosos 2%\n",
    "# B = Defectuosos 3%\n",
    "# C = Defectuosos 5%\n"
   ]
  },
  {
   "cell_type": "markdown",
   "metadata": {},
   "source": [
    "P(A) = 0,40 P(D/A) = 0,02\n",
    "\n",
    "P(B) = 0,30 P(D/B) = 0,03\n",
    "\n",
    "P(C) = 0,30 P(D/C) = 0,05"
   ]
  },
  {
   "cell_type": "markdown",
   "metadata": {},
   "source": [
    "Si un envase ha sido fabricado por la fábrica de esta empresa en Estados Unidos ¿Cuál es la probabilidad de que sea defectuoso?"
   ]
  },
  {
   "cell_type": "markdown",
   "metadata": {},
   "source": [
    "P(D) =[ P(A) x P(D/A) ] + [ P(B) x P(D/B) ] + [ P(C) x P(D/C) ] = [ 0,4 x 0,02 ] + [ 0,3 x 0,03 ] + [ 0,3 x 0,05 ] = 0,032"
   ]
  },
  {
   "cell_type": "code",
   "execution_count": 185,
   "metadata": {},
   "outputs": [
    {
     "data": {
      "text/plain": [
       "0.032"
      ]
     },
     "execution_count": 185,
     "metadata": {},
     "output_type": "execute_result"
    }
   ],
   "source": [
    "PA = 0.4 \n",
    "PB = 0.3\n",
    "PC = 0.3\n",
    "PDA = 0.02\n",
    "PDB = 0.03\n",
    "PDC = 0.05\n",
    "\n",
    "D = (PA*PDA) +(PB*PDB) + (PC*PDC) \n",
    "D "
   ]
  },
  {
   "cell_type": "markdown",
   "metadata": {},
   "source": [
    "Expresado en porcentaje, diríamos que la probabilidad de que un envase fabricado por la fábrica de esta empresa en Estados Unidos sea defectuoso es del 3,2%."
   ]
  },
  {
   "cell_type": "markdown",
   "metadata": {},
   "source": [
    "Probabilidad de que haya sido defectuoso por la primer maquina\n",
    "\n",
    "P(A/D) = [P(A) x P(D/A)] / P(D) = [0,40 x 0,02] / 0,032 = 0,25"
   ]
  },
  {
   "cell_type": "code",
   "execution_count": 186,
   "metadata": {},
   "outputs": [
    {
     "data": {
      "text/plain": [
       "0.25"
      ]
     },
     "execution_count": 186,
     "metadata": {},
     "output_type": "execute_result"
    }
   ],
   "source": [
    "PAD = PA*PDA / D\n",
    "PAD"
   ]
  },
  {
   "cell_type": "code",
   "execution_count": 187,
   "metadata": {},
   "outputs": [
    {
     "data": {
      "text/plain": [
       "0.28125"
      ]
     },
     "execution_count": 187,
     "metadata": {},
     "output_type": "execute_result"
    }
   ],
   "source": [
    "PBD = PB*PDB / D\n",
    "PBD"
   ]
  },
  {
   "cell_type": "code",
   "execution_count": 188,
   "metadata": {},
   "outputs": [
    {
     "data": {
      "text/plain": [
       "0.46875"
      ]
     },
     "execution_count": 188,
     "metadata": {},
     "output_type": "execute_result"
    }
   ],
   "source": [
    "PCD = PC*PDC / D\n",
    "PCD"
   ]
  },
  {
   "cell_type": "markdown",
   "metadata": {},
   "source": [
    "Sabiendo que un envase es defectuoso, la probabilidad de que haya sido producido por la máquina A es del 25%, de que haya sido producido por la máquina B es del 28% y de que haya sido producido por la máquina C es del 47%"
   ]
  },
  {
   "cell_type": "markdown",
   "metadata": {},
   "source": [
    "Ahora vamos a trabajar con el teorema de bayes con el video de [Verisatium](https://www.youtube.com/watch?v=D7KKlC0LOyw)"
   ]
  },
  {
   "cell_type": "markdown",
   "metadata": {},
   "source": [
    " ![Formula del teorema de bayes](./recursos/formula.jpeg)\n",
    "\n",
    " Formula del teorema de bayes"
   ]
  },
  {
   "cell_type": "markdown",
   "metadata": {},
   "source": [
    "## 1.- Problema planteado\n",
    "\n",
    "Existe una enfermedad que afecta solo al $0.01$ o a 1 de cada 100 de la poblacion, existe una prueba que tiene una efectividad del $ 99% $ porciento <br>\n",
    "¿Cual es la probabilidad de estar enfermo despues de que saliera positiva la prueba?"
   ]
  },
  {
   "cell_type": "markdown",
   "metadata": {},
   "source": [
    "Esta pregunta tiene algo de trampa porque tenemos que desglosarla primero que nada tenemos que ver que de una poblacion de 1000 personas , una persona tiene probabilidad de tenerla , ahora de una prueba de laboratorio con un 99% de efecacia arrobajara que 10 personas daran con positivo , por lo que habra 9 falsos positivos "
   ]
  },
  {
   "cell_type": "markdown",
   "metadata": {},
   "source": [
    "$P [A \\mid B] =$ $ \\frac{P ( E \\mid H ) * P(H) }{P(H) * P (E \\mid H) + P(-H) * P(E \\mid -H)} $ "
   ]
  },
  {
   "cell_type": "markdown",
   "metadata": {},
   "source": [
    "$P [A \\mid B] =$ $ \\frac{.99 * .001}{.001 * .99 + .999 * 0.1} $ = 9 personas\n",
    "\n"
   ]
  },
  {
   "cell_type": "markdown",
   "metadata": {},
   "source": [
    "Esto utilizando los datos apriori que son aquellos que se toman antes de realizar el experimento."
   ]
  },
  {
   "cell_type": "markdown",
   "metadata": {},
   "source": [
    "Ahora utilizaremos los datos a posteriori para obtener dado que ya se tuvo un resultado positivo , vamos a realziar una prueba de laboratorio tal cual sea independiente para poder asi tener un valor más exacto al realizar una segunda prueba dando como sustitucion el $ P(H) $ ahora del 9% que es el valor que obtuvimos"
   ]
  },
  {
   "cell_type": "markdown",
   "metadata": {},
   "source": [
    "$P [A \\mid B] =$ $ \\frac{.99 * .09}{.09 * .99 + .91 * 0.01} $ = 91% de probabilidad de obtener la enfermedad <br>\n",
    "Teniendo esta premisa realizaremos un ejemplo en python para obtener las veces que sean necesario los experimentos y asi obtener una carga más precisa de probabilidad baysesiana\n"
   ]
  },
  {
   "cell_type": "code",
   "execution_count": 189,
   "metadata": {},
   "outputs": [
    {
     "name": "stdout",
     "output_type": "stream",
     "text": [
      "Saldran  9.01639344262295 casos positivos\n"
     ]
    }
   ],
   "source": [
    "\n",
    "def CalculadoraBayesiana(x):\n",
    "    #Probabilidad de que sea cierto el resultado de la prueba\n",
    "    PEH = .99\n",
    "    #Probabilidad de tener la enfermedad\n",
    "    # 1 de cada mil === 0.001\n",
    "    #Probabilidad de no tener la enfermedad\n",
    "    PHnegativa = 1-x\n",
    "    PHnegativa = (\"{0:.3f}\".format(PHnegativa))\n",
    "    PHnegativa = float(PHnegativa)\n",
    "    #Probabilidad de que sea falso el resultado de la prueba\n",
    "    PEHnegativa = 1-PEH\n",
    "    PEHnegativa = (\"{0:.3f}\".format(PEHnegativa))\n",
    "    PEHnegativa = float(PEHnegativa)\n",
    "\n",
    "    formula = (PEH * x) / ((x * PEH) + (PHnegativa * PEHnegativa))\n",
    "    return formula * 100\n",
    "#Probabilidad de tener la enfermedad\n",
    "    # 1 de cada mil === 0.001\n",
    "PH = 0.001\n",
    "\n",
    "print (\"Saldran \" , CalculadoraBayesiana(PH) , \"casos positivos\")\n",
    "\n"
   ]
  },
  {
   "cell_type": "markdown",
   "metadata": {},
   "source": [
    "Segunda prueba independiente"
   ]
  },
  {
   "cell_type": "code",
   "execution_count": 190,
   "metadata": {},
   "outputs": [
    {
     "data": {
      "text/plain": [
       "90.74848752520792"
      ]
     },
     "execution_count": 190,
     "metadata": {},
     "output_type": "execute_result"
    }
   ],
   "source": [
    "CalculadoraBayesiana(9.01639344262295/100)"
   ]
  },
  {
   "cell_type": "markdown",
   "metadata": {},
   "source": [
    "Tercera prueba positiva independiente"
   ]
  },
  {
   "cell_type": "code",
   "execution_count": 191,
   "metadata": {},
   "outputs": [
    {
     "data": {
      "text/plain": [
       "99.89659083632475"
      ]
     },
     "execution_count": 191,
     "metadata": {},
     "output_type": "execute_result"
    }
   ],
   "source": [
    "CalculadoraBayesiana(90.74848752520792/100)"
   ]
  },
  {
   "cell_type": "markdown",
   "metadata": {},
   "source": [
    "Cuarta prueba positiva independiente"
   ]
  },
  {
   "cell_type": "code",
   "execution_count": 192,
   "metadata": {},
   "outputs": [
    {
     "data": {
      "text/plain": [
       "99.99898886359571"
      ]
     },
     "execution_count": 192,
     "metadata": {},
     "output_type": "execute_result"
    }
   ],
   "source": [
    "CalculadoraBayesiana(99.89659083632475/100)"
   ]
  },
  {
   "cell_type": "markdown",
   "metadata": {},
   "source": [
    "Quinta prueba  positiva independiente ( empezar a crear un margen e de error)"
   ]
  },
  {
   "cell_type": "code",
   "execution_count": 193,
   "metadata": {},
   "outputs": [
    {
     "data": {
      "text/plain": [
       "99.99898886359571"
      ]
     },
     "execution_count": 193,
     "metadata": {},
     "output_type": "execute_result"
    }
   ],
   "source": [
    "CalculadoraBayesiana(99.89659083632475/100)"
   ]
  },
  {
   "cell_type": "code",
   "execution_count": 194,
   "metadata": {},
   "outputs": [
    {
     "name": "stdout",
     "output_type": "stream",
     "text": [
      "Se necesitaron  3 pruebas independientes para alcanzar el margén de error 0.05 %\n"
     ]
    }
   ],
   "source": [
    "z= 0.05\n",
    "#PRIMER CALCULO\n",
    "x = CalculadoraBayesiana(PH)\n",
    "\n",
    "if (x==100):\n",
    "    w = True\n",
    "    print(\"Se necesitaron  1 pruebas independientes para alcanzar el margén de error\")\n",
    "\n",
    "\n",
    "\n",
    "sumatoria = 2\n",
    "resultado = 0\n",
    "#SEGUNDO CALCULO\n",
    "x = CalculadoraBayesiana(x/100)\n",
    "while w == False:\n",
    "    if ((x-100)<=z):\n",
    "        w = True\n",
    "        print(x-100)\n",
    "        print(\"Se necesitaron  2 pruebas independientes para alcanzar el margén de error\")\n",
    "\n",
    "#MAS DE 3 CALCULOS\n",
    "while w == False:\n",
    "\n",
    "    x = CalculadoraBayesiana(x/100)\n",
    "    resultado = 100 - x \n",
    "\n",
    "if ((x-100)<=z):\n",
    "    w = True\n",
    "    sumatoria +=1\n",
    "\n",
    "\n",
    "print(\"Se necesitaron \", sumatoria, \"pruebas independientes para alcanzar el margén de error\", z , \"%\")\n",
    "\n"
   ]
  },
  {
   "cell_type": "markdown",
   "metadata": {},
   "source": [
    "Leer el articulo que tenemos guardado por ahi...."
   ]
  },
  {
   "cell_type": "code",
   "execution_count": 195,
   "metadata": {},
   "outputs": [
    {
     "data": {
      "text/plain": [
       "0.09899999999999999"
      ]
     },
     "execution_count": 195,
     "metadata": {},
     "output_type": "execute_result"
    }
   ],
   "source": [
    "a_priori = 0.001\n",
    "likelihood = 0.99\n",
    "evidencia = 0.01\n",
    "\n",
    "aposteriori = (likelihood * a_priori / evidencia)\n",
    "\n",
    "aposteriori \n",
    "\n",
    "\n"
   ]
  }
 ],
 "metadata": {
  "interpreter": {
   "hash": "12e7b2db913c7cced4d5bf71ce365c438f2053887e824f813caa9208ccef4b13"
  },
  "kernelspec": {
   "display_name": "Python 3.9.7 ('base')",
   "language": "python",
   "name": "python3"
  },
  "language_info": {
   "codemirror_mode": {
    "name": "ipython",
    "version": 3
   },
   "file_extension": ".py",
   "mimetype": "text/x-python",
   "name": "python",
   "nbconvert_exporter": "python",
   "pygments_lexer": "ipython3",
   "version": "3.9.7"
  },
  "orig_nbformat": 4
 },
 "nbformat": 4,
 "nbformat_minor": 2
}
