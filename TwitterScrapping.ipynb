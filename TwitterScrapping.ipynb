{
 "cells": [
  {
   "cell_type": "markdown",
   "metadata": {},
   "source": [
    "### Twitter scrapping API"
   ]
  },
  {
   "cell_type": "markdown",
   "metadata": {},
   "source": [
    "##### Usaremos twitter para poder obtener informacion de noticias y tendencias"
   ]
  },
  {
   "cell_type": "code",
   "execution_count": 19,
   "metadata": {},
   "outputs": [
    {
     "name": "stdout",
     "output_type": "stream",
     "text": [
      "b'f3l1p34ndr3sss' : b'Ojal\\xc3\\xa1 el gobierno lea este tweet y diga: gracias a tunel rose metallica no se presentar\\xc3\\xa1 en Chile https://t.co/rWBV3gZi4P'\n",
      "b'3papayanki' : b'RT @Metallica_Muya: \\xc2\\xbfMETALLICA en CHILE con m\\xc3\\xa1s de 60.000 Entradas Vendidas, no es llegar y cancelar est\\xc3\\xa1 presentaci\\xc3\\xb3n tiene que haber una\\xe2\\x80\\xa6'\n",
      "b'3papayanki' : b'RT @MetallicaNacion: Vamos todos, RT y difunde por favor. En Chile no se pueden perder a @Metallica \\n#MetallicaEnChile #MetallicaAlNacional\\xe2\\x80\\xa6'\n",
      "b'helloitstanya98' : b'@GerberKawasaki @Metallica Metallica is awesome \\xe2\\x9d\\xa4\\xef\\xb8\\x8f\\xe2\\x80\\x8d\\xf0\\x9f\\x94\\xa5, it has always been my fav band https://t.co/OEj0PSXYZF'\n",
      "b'swag420' : b'@mitchlafon Metallica'\n",
      "b'3papayanki' : b'RT @KallosAgathos: C\\xc3\\xb3mo no va a dar rabia la nula capacidad de las autoridades por hacerse cargo. Desde lejos se nota la poca voluntad que\\xe2\\x80\\xa6'\n",
      "b'altankalay' : b'RT @MetalTillDeathh: Kazanan belli @Metallica \\n\\n#FBvsGS https://t.co/6QHer0aNKu'\n",
      "b'sti_law' : b\"RT @SaskandDestroy: Metallica fans in Chile need help. The concert is in danger of being canceled due to renovations that won't be ready fo\\xe2\\x80\\xa6\"\n",
      "b'Kykouc' : b'@ikthgyu bardziej w kierunki guns snd roses, metallica i acdc czerowne gitary aftekpunk ladypunk'\n",
      "b'alonsomadridOK' : b'RT @esp_ukrinform: Billie Eilish, U2, Metallica y otros se suman a la campa\\xc3\\xb1a #StandUpForUkraine \\n#StandWithUkraine #stoprussia https://t.c\\xe2\\x80\\xa6'\n",
      "b'whoistenners' : b'@iamderrickali @JordanN64022089 @Rap Also u might throw up when u see the long list of bands that have had worse ha\\xe2\\x80\\xa6 https://t.co/4Fzce2EzAd'\n",
      "b'3papayanki' : b'RT @eduarmalkavian: #MetallicaAlNacional Metallica en Chile no se puede cancelar!! Una falta de respeto a quienes tenemos la entrada hace c\\xe2\\x80\\xa6'\n",
      "b'bahamathic' : b'RT @MetalTillDeathh: Kazanan belli @Metallica \\n\\n#FBvsGS https://t.co/6QHer0aNKu'\n",
      "b'3papayanki' : b'RT @Metallica_Muya: Tanta espera!!! m\\xc3\\xa1s de dos a\\xc3\\xb1os esperando a @Metallica en nuestro pa\\xc3\\xads y su presentaci\\xc3\\xb3n en el #EstadioNacional que est\\xe2\\x80\\xa6'\n",
      "b'3papayanki' : b'RT @KallosAgathos: Por respeto a los +60 mil fans de Metallica que tenemos nuestro ticket hace +2 a\\xc3\\xb1os, por la gente que trabaja en la prod\\xe2\\x80\\xa6'\n"
     ]
    }
   ],
   "source": [
    "#Instalacion\n",
    "from twython import Twython\n",
    "\n",
    "twitter = Twython(\"vVLZBUFB0jPzobIdAj9FWIX1N\",\"6ZVVvaLIhkz8PYnTn5dxIvP0jGbXOdNwP7enelsPZXHt14nSv6\")\n",
    "\n",
    "for status in twitter.search(q='metallica')[\"statuses\"]:\n",
    "    user = status[\"user\"][\"screen_name\"].encode('utf-8')\n",
    "    text = status[\"text\"].encode('utf-8')\n",
    "    print (user, \":\" , text)\n",
    "    print"
   ]
  },
  {
   "cell_type": "code",
   "execution_count": 22,
   "metadata": {},
   "outputs": [],
   "source": [
    "from twython import TwythonStreamer\n",
    "tweets = []\n",
    "class MyStreamer(TwythonStreamer):\n",
    "    # en esta subclase de twythonstreamer especificara ocmo interactuar con el stream\n",
    "    def on_success(self,data):\n",
    "        #que vamos a hacer cuando tw mande datos?\n",
    "        #aqui la data va a ser un dictado de python\n",
    "        #solo vamos a querer tweets en ingles\n",
    "        if data['lang'] == 'en':\n",
    "            tweets.append(data)\n",
    "            print(\"Tuits recibidos #\" , len(tweets))\n",
    "        #para cuando se recolecten suficientes\n",
    "        if len(tweets) >= 10:\n",
    "            self.disconnect()\n",
    "   \n",
    "    def on_error(self, status_code,data):\n",
    "        print(status_code)\n",
    "    \n",
    "\n",
    "    "
   ]
  },
  {
   "cell_type": "markdown",
   "metadata": {},
   "source": []
  },
  {
   "cell_type": "code",
   "execution_count": null,
   "metadata": {},
   "outputs": [],
   "source": [
    "APP_KEY = \"vVLZBUFB0jPzobIdAj9FWIX1N\"\n",
    "APP_SECRET = \"6ZVVvaLIhkz8PYnTn5dxIvP0jGbXOdNwP7enelsPZXHt14nSv6\"\n",
    "OAUTH_TOKEN = \"c1loZ2R1VGY1R21Dbkl3VzF1ZFg6MTpjaQ\"\n",
    "OAUTH_TOKEN_SECRET = \"W2MoIQrJ5LOKuyYh2SfSfW5rec6RcLzdMZqReWrQuaEAF5A7we\"\n",
    "\n",
    "stream = MyStreamer(APP_KEY, APP_SECRET,\n",
    "                    OAUTH_TOKEN, OAUTH_TOKEN_SECRET)\n",
    "stream.statuses.filter(track='twitter')\n",
    "stream.statuses.filter(track='data')"
   ]
  },
  {
   "cell_type": "code",
   "execution_count": null,
   "metadata": {},
   "outputs": [],
   "source": [
    "##import collections\n",
    "##top_hashtags = collections.Counter(hashtag['text'].lower() \n",
    "##    for tweet in tweets \n",
    "##    for hashtags.most_commons(s))"
   ]
  }
 ],
 "metadata": {
  "interpreter": {
   "hash": "12e7b2db913c7cced4d5bf71ce365c438f2053887e824f813caa9208ccef4b13"
  },
  "kernelspec": {
   "display_name": "Python 3.9.7 ('base')",
   "language": "python",
   "name": "python3"
  },
  "language_info": {
   "codemirror_mode": {
    "name": "ipython",
    "version": 3
   },
   "file_extension": ".py",
   "mimetype": "text/x-python",
   "name": "python",
   "nbconvert_exporter": "python",
   "pygments_lexer": "ipython3",
   "version": "3.9.7"
  },
  "orig_nbformat": 4
 },
 "nbformat": 4,
 "nbformat_minor": 2
}
